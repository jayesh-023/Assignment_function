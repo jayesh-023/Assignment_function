{
 "cells": [
  {
   "cell_type": "markdown",
   "id": "83229aa2-cd5b-4938-a0f1-10f4902c61b7",
   "metadata": {},
   "source": [
    "# Q1. Create a python program to sort the given list of tuples based on integer value using a lambda function.\n",
    "# [('Sachin Tendulkar', 34357), ('Ricky Ponting', 27483), ('Jack Kallis', 25534), ('Virat Kohli', 24936)]"
   ]
  },
  {
   "cell_type": "code",
   "execution_count": 5,
   "id": "713d2364-d1c4-4859-8f92-20efead77585",
   "metadata": {},
   "outputs": [
    {
     "name": "stdin",
     "output_type": "stream",
     "text": [
      "Enter the no. of sets to put in tuple:  3\n",
      "Enter the space-separated data and key to insert in the tuple:\n",
      " sa 7\n",
      "Enter the space-separated data and key to insert in the tuple:\n",
      " ga 4\n",
      "Enter the space-separated data and key to insert in the tuple:\n",
      " uj 9\n"
     ]
    },
    {
     "name": "stdout",
     "output_type": "stream",
     "text": [
      "Tuple is:  [('sa', '7'), ('ga', '4'), ('uj', '9')]\n",
      "Sorted tuple: \n",
      " [('ga', '4'), ('sa', '7'), ('uj', '9')]\n"
     ]
    }
   ],
   "source": [
    "n = int(input(\"Enter the no. of sets to put in tuple: \"))\n",
    "\n",
    "mytuple = []\n",
    "\n",
    "for i in range(n):\n",
    "    x = tuple(input(\"Enter the space-separated data and key to insert in the tuple:\\n\").split())\n",
    "    mytuple.append(x)\n",
    "    \n",
    "print(\"Tuple is: \", mytuple)\n",
    "sortedtuple = sorted(mytuple, key = lambda x: x[1])\n",
    "print(\"Sorted tuple: \\n\", sortedtuple)"
   ]
  },
  {
   "cell_type": "code",
   "execution_count": null,
   "id": "d0e0bb3a-70fb-4932-ae02-0d64833c76ed",
   "metadata": {},
   "outputs": [],
   "source": []
  },
  {
   "cell_type": "code",
   "execution_count": null,
   "id": "6e5c7579-4880-4c0d-8f49-9a12b898485c",
   "metadata": {},
   "outputs": [],
   "source": []
  },
  {
   "cell_type": "markdown",
   "id": "a9230bc7-bfc4-4468-b823-5f3498a5211c",
   "metadata": {},
   "source": [
    "# Q2. Write a Python Program to find the squares of all the numbers in the given list of integers using lambda and map functions.\n",
    "# [1, 2, 3, 4, 5, 6, 7, 8, 9, 10]"
   ]
  },
  {
   "cell_type": "code",
   "execution_count": 6,
   "id": "c1f45a19-b551-4a08-86ce-db3350b8856e",
   "metadata": {},
   "outputs": [
    {
     "name": "stdin",
     "output_type": "stream",
     "text": [
      "Enter the no. of elements to put in the list:  3\n",
      "Enter the no. to insert in list:  1\n",
      "Enter the no. to insert in list:  2\n",
      "Enter the no. to insert in list:  3\n"
     ]
    },
    {
     "name": "stdout",
     "output_type": "stream",
     "text": [
      "List is:  [1, 2, 3]\n",
      "Squared list is:  [1, 4, 9]\n"
     ]
    }
   ],
   "source": [
    "n = int(input(\"Enter the no. of elements to put in the list: \"))\n",
    "l1 = []\n",
    "\n",
    "for i in range(n):\n",
    "    x = int(input(\"Enter the no. to insert in list: \"))\n",
    "    l1.append(x)\n",
    "\n",
    "print(\"List is: \", l1)\n",
    "sqlist = list(map(lambda x: x**2, l1))\n",
    "print(\"Squared list is: \", sqlist)"
   ]
  },
  {
   "cell_type": "code",
   "execution_count": null,
   "id": "e263bedb-ff7c-4a71-86f3-abf7dad94cd6",
   "metadata": {},
   "outputs": [],
   "source": []
  },
  {
   "cell_type": "code",
   "execution_count": null,
   "id": "bc1d3615-9e8b-4cdf-b3d8-19947698e00f",
   "metadata": {},
   "outputs": [],
   "source": []
  },
  {
   "cell_type": "markdown",
   "id": "2176a3bd-b950-4d91-baa1-b9778319157f",
   "metadata": {},
   "source": [
    "# Q3. Write a python program to convert the given list of integers into a tuple of strings. Use map and lambda functions\n",
    "# Given String: [1, 2, 3, 4, 5, 6, 7, 8, 9, 10]\n",
    "# Expected output: ('1', '2', '3', '4', '5', '6', '7', '8', '9', '10')"
   ]
  },
  {
   "cell_type": "code",
   "execution_count": 7,
   "id": "80fb06cb-4a0d-4a55-b94c-dbb218c9c84d",
   "metadata": {},
   "outputs": [
    {
     "name": "stdin",
     "output_type": "stream",
     "text": [
      "Enter the no. of elements to insert in the list:  3\n",
      "Enter the no. to insert in the list:  1\n",
      "Enter the no. to insert in the list:  2\n",
      "Enter the no. to insert in the list:  3\n"
     ]
    },
    {
     "name": "stdout",
     "output_type": "stream",
     "text": [
      "Input list:  [1, 2, 3]\n",
      "Output list is:  ['1', '2', '3']\n"
     ]
    }
   ],
   "source": [
    "n = int(input(\"Enter the no. of elements to insert in the list: \"))\n",
    "l1 = []\n",
    "\n",
    "for i in range(n):\n",
    "    x = int(input(\"Enter the no. to insert in the list: \"))\n",
    "    l1.append(x)\n",
    "    \n",
    "print(\"Input list: \", l1)\n",
    "strlist = list(map(lambda x: str(x), l1))\n",
    "print(\"Output list is: \", strlist)"
   ]
  },
  {
   "cell_type": "code",
   "execution_count": null,
   "id": "0de9d585-3269-4858-a3ef-a3dc2890009f",
   "metadata": {},
   "outputs": [],
   "source": []
  },
  {
   "cell_type": "code",
   "execution_count": null,
   "id": "7d474d4e-f362-4704-90d0-1db12def6379",
   "metadata": {},
   "outputs": [],
   "source": []
  },
  {
   "cell_type": "markdown",
   "id": "709d9714-6c4c-4e53-8a8e-a425c8bd34c8",
   "metadata": {},
   "source": [
    "# Q4. Write a python program using reduce function to compute the product of a list containing numbers from 1 to 25."
   ]
  },
  {
   "cell_type": "code",
   "execution_count": 9,
   "id": "995d3a68-31ee-411a-8731-46f689953fa1",
   "metadata": {},
   "outputs": [
    {
     "name": "stdout",
     "output_type": "stream",
     "text": [
      "Input list is:  [1, 2, 3, 4, 5, 6, 7, 8, 9, 10, 11, 12, 13, 14, 15, 16, 17, 18, 19, 20, 21, 22, 23, 24, 25]\n",
      "Product:  15511210043330985984000000\n"
     ]
    }
   ],
   "source": [
    "from functools import reduce\n",
    "l1 = list(range(1,26))\n",
    "print(\"Input list is: \",l1)\n",
    "product = (reduce(lambda x,y: x*y, l1))\n",
    "print(\"Product: \", product)\n"
   ]
  },
  {
   "cell_type": "code",
   "execution_count": null,
   "id": "c1403ee8-c445-4438-b1cb-39c607684220",
   "metadata": {},
   "outputs": [],
   "source": []
  },
  {
   "cell_type": "code",
   "execution_count": null,
   "id": "4da9bd93-ae9f-49b9-a05b-29903b2646c9",
   "metadata": {},
   "outputs": [],
   "source": []
  },
  {
   "cell_type": "markdown",
   "id": "daf25dc7-5036-4bca-b0aa-fc2c0c0cb383",
   "metadata": {},
   "source": [
    "# Q5. Write a python program to filter the numbers in a given list that are divisible by 2 and 3 using the filter function.\n",
    "# [2, 3, 6, 9, 27, 60, 90, 120, 55, 46]"
   ]
  },
  {
   "cell_type": "code",
   "execution_count": 13,
   "id": "6cd59921-ecfd-48c8-bbfa-cbac9be6ee1a",
   "metadata": {},
   "outputs": [
    {
     "name": "stdin",
     "output_type": "stream",
     "text": [
      "Enter the no. of elements to insert in the list:  4\n",
      "Enter the no. to insert in the list:  2\n",
      "Enter the no. to insert in the list:  3\n",
      "Enter the no. to insert in the list:  6\n",
      "Enter the no. to insert in the list:  9\n"
     ]
    },
    {
     "name": "stdout",
     "output_type": "stream",
     "text": [
      "Filtered list:  [6]\n"
     ]
    }
   ],
   "source": [
    "n = int(input(\"Enter the no. of elements to insert in the list: \"))\n",
    "l1 = []\n",
    "\n",
    "for i in range(n):\n",
    "    x = int(input(\"Enter the no. to insert in the list: \"))\n",
    "    l1.append(x)\n",
    "    \n",
    "filtlist = list(filter(lambda x: x%2==0 and x%3==0, l1))\n",
    "print(\"Filtered list: \", filtlist)"
   ]
  },
  {
   "cell_type": "code",
   "execution_count": null,
   "id": "96837b89-2845-42ad-9d55-c97be21851ca",
   "metadata": {},
   "outputs": [],
   "source": []
  },
  {
   "cell_type": "code",
   "execution_count": null,
   "id": "81f5855e-cb5a-4c19-b6a4-eb6978a0220e",
   "metadata": {},
   "outputs": [],
   "source": []
  },
  {
   "cell_type": "markdown",
   "id": "21fa3ee3-e6ec-4862-a520-0831f039d27f",
   "metadata": {},
   "source": [
    "# Q6. Write a python program to find palindromes in the given list of strings using lambda and filter function.\n",
    "# ['python', 'php', 'aba', 'radar', 'level']"
   ]
  },
  {
   "cell_type": "code",
   "execution_count": 19,
   "id": "91783f79-7bf8-4d93-ad39-01fff0f3b50a",
   "metadata": {},
   "outputs": [
    {
     "name": "stdin",
     "output_type": "stream",
     "text": [
      "Enter the no. of inputs to take in list:  3\n",
      "Enter the words to insert in the list:  php\n",
      "Enter the words to insert in the list:  level\n",
      "Enter the words to insert in the list:  python\n"
     ]
    },
    {
     "name": "stdout",
     "output_type": "stream",
     "text": [
      "Input list:  ['php', 'level', 'python']\n",
      "Req list:  ['php', 'level']\n"
     ]
    }
   ],
   "source": [
    "n = int(input(\"Enter the no. of inputs to take in list: \"))\n",
    "l1 = []\n",
    "for i in range(n):\n",
    "    x = input(\"Enter the words to insert in the list: \")\n",
    "    l1.append(x)\n",
    "    \n",
    "print(\"Input list: \", l1)\n",
    "pallist = list(filter(lambda x: x == x[::-1], l1))\n",
    "print(\"Req list: \", pallist)\n"
   ]
  },
  {
   "cell_type": "code",
   "execution_count": null,
   "id": "b8135e6f-b108-43a4-afef-0e3548ec2015",
   "metadata": {},
   "outputs": [],
   "source": []
  }
 ],
 "metadata": {
  "kernelspec": {
   "display_name": "Python 3 (ipykernel)",
   "language": "python",
   "name": "python3"
  },
  "language_info": {
   "codemirror_mode": {
    "name": "ipython",
    "version": 3
   },
   "file_extension": ".py",
   "mimetype": "text/x-python",
   "name": "python",
   "nbconvert_exporter": "python",
   "pygments_lexer": "ipython3",
   "version": "3.10.8"
  }
 },
 "nbformat": 4,
 "nbformat_minor": 5
}
